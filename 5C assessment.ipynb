{
 "cells": [
  {
   "cell_type": "code",
   "execution_count": 8,
   "id": "50c0f26c",
   "metadata": {},
   "outputs": [],
   "source": [
    "#1\n",
    "import pandas as pd\n",
    "df=pd.read_csv('sales_data_1.csv')\n",
    "overall_gross_margin = (df[\"Selling price\"] - df[\"Buying price\"]).sum()\n"
   ]
  },
  {
   "cell_type": "code",
   "execution_count": 9,
   "id": "8235e7fe",
   "metadata": {},
   "outputs": [
    {
     "name": "stdout",
     "output_type": "stream",
     "text": [
      "1207.1999999999998\n"
     ]
    }
   ],
   "source": [
    "print(overall_gross_margin)"
   ]
  },
  {
   "cell_type": "code",
   "execution_count": 10,
   "id": "9ca05538",
   "metadata": {},
   "outputs": [
    {
     "name": "stdout",
     "output_type": "stream",
     "text": [
      "Vendor7\n"
     ]
    }
   ],
   "source": [
    "#2\n",
    "vendor_profit = df.groupby(\"Firm bought from\")[\"Selling price\"].sum() - df.groupby(\"Firm bought from\")[\"Buying price\"].sum()\n",
    "profit_vendor = vendor_profit.idxmax()\n",
    "print(profit_vendor)"
   ]
  },
  {
   "cell_type": "code",
   "execution_count": 11,
   "id": "571c18ce",
   "metadata": {},
   "outputs": [
    {
     "name": "stdout",
     "output_type": "stream",
     "text": [
      "Customer9\n"
     ]
    }
   ],
   "source": [
    "#3\n",
    "customer_profit = df.groupby(\"Customer\")[\"Selling price\"].sum() - df.groupby(\"Customer\")[\"Buying price\"].sum()\n",
    "least_profit_customer = customer_profit.idxmin()\n",
    "print(least_profit_customer)"
   ]
  },
  {
   "cell_type": "code",
   "execution_count": 12,
   "id": "9a141c66",
   "metadata": {},
   "outputs": [
    {
     "name": "stdout",
     "output_type": "stream",
     "text": [
      "Monday\n"
     ]
    }
   ],
   "source": [
    "#4\n",
    "df[\"Date\"] = pd.to_datetime(df[\"Date\"])\n",
    "df[\"Day of Week\"] = df[\"Date\"].dt.day_name()\n",
    "day_profit = df.groupby(\"Day of Week\")[\"Selling price\"].sum() - df.groupby(\"Day of Week\")[\"Buying price\"].sum()\n",
    "profit_day = day_profit.idxmax()\n",
    "print(profit_day)"
   ]
  },
  {
   "cell_type": "code",
   "execution_count": 13,
   "id": "5683ebc9",
   "metadata": {},
   "outputs": [
    {
     "name": "stdout",
     "output_type": "stream",
     "text": [
      "Thursday\n"
     ]
    }
   ],
   "source": [
    "#5\n",
    "least_profit_day = day_profit.idxmin()\n",
    "print(least_profit_day)"
   ]
  },
  {
   "cell_type": "code",
   "execution_count": 14,
   "id": "a3cdc3b7",
   "metadata": {},
   "outputs": [
    {
     "name": "stdout",
     "output_type": "stream",
     "text": [
      "      Buying price  Selling price\n",
      "0.25         29.90        38.9750\n",
      "0.50         60.76        78.9900\n",
      "0.75         78.32       103.3975\n"
     ]
    }
   ],
   "source": [
    "#9\n",
    "import pandas as pd\n",
    "df=pd.read_csv('sales_data_2.csv')\n",
    "percentiles = df[['Buying price', 'Selling price']].quantile([0.25, 0.5, 0.75])\n",
    "print(percentiles)\n",
    "\n"
   ]
  },
  {
   "cell_type": "code",
   "execution_count": 19,
   "id": "14e0c105",
   "metadata": {},
   "outputs": [
    {
     "name": "stdout",
     "output_type": "stream",
     "text": [
      "\n",
      "Frequency of Prices Below 25th Percentile: 18\n",
      "\n",
      "Frequency of Prices Above 75th Percentile: 18\n"
     ]
    }
   ],
   "source": [
    "#10\n",
    "below25 = df[df['Selling price'] < percentiles.loc[0.25]['Selling price']]\n",
    "above75 = df[df['Selling price'] > percentiles.loc[0.75]['Selling price']]\n",
    "print(\"\\nFrequency of Prices Below 25th Percentile:\",len(below25))\n",
    "print(\"\\nFrequency of Prices Above 75th Percentile:\",len(above75))"
   ]
  },
  {
   "cell_type": "code",
   "execution_count": null,
   "id": "85cee812",
   "metadata": {},
   "outputs": [],
   "source": []
  }
 ],
 "metadata": {
  "kernelspec": {
   "display_name": "Python 3 (ipykernel)",
   "language": "python",
   "name": "python3"
  },
  "language_info": {
   "codemirror_mode": {
    "name": "ipython",
    "version": 3
   },
   "file_extension": ".py",
   "mimetype": "text/x-python",
   "name": "python",
   "nbconvert_exporter": "python",
   "pygments_lexer": "ipython3",
   "version": "3.7.4"
  }
 },
 "nbformat": 4,
 "nbformat_minor": 5
}
